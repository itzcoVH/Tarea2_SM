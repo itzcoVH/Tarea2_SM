{
 "cells": [
  {
   "cell_type": "markdown",
   "metadata": {},
   "source": [
    "## Programming language of the year? Python is standout in latest rankings\n",
    "**Resumen 1**\n",
    "\n",
    "Phyton se ha convertido en uno de los 3 lenguajes de programación principales a largo plazo. Gracias a su sintaxis fácil de entender, su amplica disponibilidad de tutoriales en lina y bibliotecas de software este lenguaje es uno de los pirmeros que se enseñan en universidades y es el idioma principal para el analisis estadistico, machine learning y la informatica cientifica."
   ]
  },
  {
   "cell_type": "markdown",
   "metadata": {},
   "source": [
    "_____________________________________________________________________________________________________________________"
   ]
  },
  {
   "cell_type": "markdown",
   "metadata": {},
   "source": [
    "## Spotlight: Why Python Training Is Totally Worth It\n",
    "**Resumen 2**\n",
    "\n",
    "Comenzar a programar en Phyton es sencillo ya que muchos ordenadores ya lo tienen instalado y en caso de que no, la instalacion y la configuración son bastante sencillas. Phyton tiene muchas aplicaciones, desde sencillas hasta aplicaciones de nivel avanzado ya que posee una sintaxis optimizada y una libreria muy amplia para consultar.\n",
    "\n",
    "Phyton es usado en muchas ocasiones para la programación web, algoritmos para analisis estadistico, inteligencia artificial y este lenguaje es ademas ampliamente usado por los desarroladores de Amazon y Google.\n",
    "\n",
    "Al aprender lo inicial es mas sencillo despues aprender por si mismo conceptos que se necesiten en el futuro para las aplicaciones que puedas imaginar."
   ]
  },
  {
   "cell_type": "code",
   "execution_count": null,
   "metadata": {},
   "outputs": [],
   "source": []
  }
 ],
 "metadata": {
  "kernelspec": {
   "display_name": "Python 3",
   "language": "python",
   "name": "python3"
  },
  "language_info": {
   "codemirror_mode": {
    "name": "ipython",
    "version": 3
   },
   "file_extension": ".py",
   "mimetype": "text/x-python",
   "name": "python",
   "nbconvert_exporter": "python",
   "pygments_lexer": "ipython3",
   "version": "3.8.3"
  }
 },
 "nbformat": 4,
 "nbformat_minor": 4
}
