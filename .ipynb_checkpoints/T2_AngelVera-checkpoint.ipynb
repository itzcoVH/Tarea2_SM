{
 "cells": [
  {
   "cell_type": "markdown",
   "metadata": {},
   "source": [
    "## Programming language of the year? Python is standout in latest rankings\n",
    "**Resumen 1**\n",
    "\n",
    "Phyton se ha convertido en uno de los 3 lenguajes de programación principales a largo plazo. Gracias a su sintaxis fácil de entender, su amplica disponibilidad de tutoriales en lina y bibliotecas de software este lenguaje es uno de los pirmeros que se enseñan en universidades y es el idioma principal para el analisis estadistico, machine learning y la informatica cientifica."
   ]
  }
 ],
 "metadata": {
  "kernelspec": {
   "display_name": "Python 3",
   "language": "python",
   "name": "python3"
  },
  "language_info": {
   "codemirror_mode": {
    "name": "ipython",
    "version": 3
   },
   "file_extension": ".py",
   "mimetype": "text/x-python",
   "name": "python",
   "nbconvert_exporter": "python",
   "pygments_lexer": "ipython3",
   "version": "3.8.3"
  }
 },
 "nbformat": 4,
 "nbformat_minor": 4
}
